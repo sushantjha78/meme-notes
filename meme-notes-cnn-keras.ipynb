{
  "nbformat": 4,
  "nbformat_minor": 0,
  "metadata": {
    "colab": {
      "name": "new.ipynb",
      "provenance": [],
      "collapsed_sections": [],
      "mount_file_id": "1uNzA7UXUhI6emdSR2Df0KKHIbj5e1oYj",
      "authorship_tag": "ABX9TyMaZbjCmx1fOZdaaQoWadsX",
      "include_colab_link": true
    },
    "kernelspec": {
      "name": "python3",
      "display_name": "Python 3"
    }
  },
  "cells": [
    {
      "cell_type": "markdown",
      "metadata": {
        "id": "view-in-github",
        "colab_type": "text"
      },
      "source": [
        "<a href=\"https://colab.research.google.com/github/sushantjha78/meme-notes/blob/master/meme-notes-cnn-keras.ipynb\" target=\"_parent\"><img src=\"https://colab.research.google.com/assets/colab-badge.svg\" alt=\"Open In Colab\"/></a>"
      ]
    },
    {
      "cell_type": "code",
      "metadata": {
        "id": "p2oz3eDPhK_E",
        "colab_type": "code",
        "colab": {}
      },
      "source": [
        "train_test_ratio = 0.92\n",
        "img_width, img_height = 150, 200\n",
        "epochs = 5\n",
        "batch_size = 64"
      ],
      "execution_count": 1,
      "outputs": []
    },
    {
      "cell_type": "code",
      "metadata": {
        "id": "7jinFl5Cy5LO",
        "colab_type": "code",
        "colab": {}
      },
      "source": [
        "from keras.preprocessing.image import ImageDataGenerator\n",
        "from keras.models import Sequential\n",
        "from keras.layers import Conv2D, MaxPooling2D\n",
        "from keras.layers import Activation, Dropout, Flatten, Dense\n",
        "from keras import backend as K\n",
        "from random import shuffle, choice\n",
        "import numpy as np\n",
        "import os\n",
        "import cv2\n",
        "from PIL import Image\n",
        "from keras.preprocessing import image"
      ],
      "execution_count": 26,
      "outputs": []
    },
    {
      "cell_type": "code",
      "metadata": {
        "colab_type": "code",
        "id": "wtffm6ZGCw4c",
        "colab": {}
      },
      "source": [
        "\n",
        "def load_images_resize_bw(folder):\n",
        "    images = []\n",
        "    for filename in os.listdir(folder):\n",
        "        img = cv2.imread(os.path.join(folder, filename))\n",
        "        if img is not None:\n",
        "            img = cv2.cvtColor(img, cv2.COLOR_BGR2GRAY)/1.0\n",
        "            img = cv2.resize(img, dsize=(150, 200), interpolation=cv2.INTER_CUBIC)\n",
        "            img = np.array(img)\n",
        "            images.append(img)\n",
        "    return images\n",
        "\n",
        "def label_images(image_list, value):\n",
        "    labelled_image = []\n",
        "    for i in range(len(image_list)):\n",
        "        labelled_image.append(np.append(image_list[i], value))\n",
        "    return labelled_image\n",
        "\n"
      ],
      "execution_count": 3,
      "outputs": []
    },
    {
      "cell_type": "code",
      "metadata": {
        "id": "DMX4NrQ-MG7-",
        "colab_type": "code",
        "colab": {}
      },
      "source": [
        "\n",
        "notes = load_images_resize_bw('/content/drive/My Drive/Stage_1/Stage_1/Notes')\n",
        "memes = load_images_resize_bw('/content/drive/My Drive/Stage_1/Stage_1/Memes')"
      ],
      "execution_count": 4,
      "outputs": []
    },
    {
      "cell_type": "code",
      "metadata": {
        "id": "scQFlwgm0CWM",
        "colab_type": "code",
        "colab": {}
      },
      "source": [
        "notes = np.array(notes)\n",
        "memes = np.array(memes)\n",
        "notes_labels = np.ones(notes.shape[0])\n",
        "memes_labels = np.zeros(memes.shape[0])\n",
        "\n",
        "X = np.concatenate((notes,memes))\n",
        "Y = np.concatenate((notes_labels,memes_labels))\n",
        "\n",
        "np.random.seed(0)\n",
        "np.random.shuffle(X)\n",
        "np.random.seed(0)\n",
        "np.random.shuffle(Y)"
      ],
      "execution_count": 7,
      "outputs": []
    },
    {
      "cell_type": "code",
      "metadata": {
        "id": "JQ4k3jjoEVB_",
        "colab_type": "code",
        "colab": {}
      },
      "source": [
        "\n",
        "nb_train_samples = int(train_test_ratio*len(X))\n",
        "nb_test_samples = len(X) - int(train_test_ratio*len(X))\n",
        "x_train = X[:nb_train_samples]\n",
        "x_train = x_train.reshape((x_train.shape[0], img_height, img_width, 1))\n",
        "x_test = X[nb_test_samples:]\n",
        "x_test = x_test.reshape((x_test.shape[0], img_height, img_width, 1))\n",
        "y_train = Y[:nb_train_samples]\n",
        "y_test = Y[nb_test_samples:]\n"
      ],
      "execution_count": 21,
      "outputs": []
    },
    {
      "cell_type": "code",
      "metadata": {
        "id": "QE8fvL8wTfB8",
        "colab_type": "code",
        "colab": {}
      },
      "source": [
        "\n",
        "if K.image_data_format() == 'channels_first':\n",
        "  input_shape = (3, img_width, img_height)\n",
        "else:\n",
        "    input_shape = (img_width, img_height, 3)\n",
        "\n",
        "datagen = ImageDataGenerator(\n",
        "    rescale = 1.0/255,\n",
        "    zoom_range = 0.2,\n",
        "    horizontal_flip = True)\n",
        "\n",
        "train_data_generator = datagen.flow(\n",
        "    x_train,###\n",
        "    y_train,\n",
        "    batch_size = batch_size)\n",
        "\n",
        "test_data_generator = datagen.flow(\n",
        "    x_test,###\n",
        "    y_test,\n",
        "    batch_size = batch_size)\n"
      ],
      "execution_count": 22,
      "outputs": []
    },
    {
      "cell_type": "code",
      "metadata": {
        "id": "o9jxkjX92dGG",
        "colab_type": "code",
        "colab": {}
      },
      "source": [
        "model = Sequential()\n",
        "model.add(Conv2D(16, (3, 3)))\n",
        "model.add(Activation('relu'))\n",
        "model.add(MaxPooling2D(pool_size = (2, 2)))\n",
        "\n",
        "model.add(Conv2D(32, (3, 3)))\n",
        "model.add(Activation('relu'))\n",
        "model.add(MaxPooling2D(pool_size = (2, 2)))\n",
        "\n",
        "model.add(Conv2D(64, (3, 3)))\n",
        "model.add(Activation('relu'))\n",
        "model.add(MaxPooling2D(pool_size = (2, 2)))\n",
        "\n",
        "model.add(Flatten())\n",
        "model.add(Dense(64))\n",
        "model.add(Activation('relu'))\n",
        "model.add(Dense(1))\n",
        "model.add(Activation('sigmoid'))\n",
        "\n",
        "\n",
        "\n",
        "model.compile(loss = 'binary_crossentropy',\n",
        "              optimizer = 'rmsprop',\n",
        "              metrics = ['accuracy'])\n"
      ],
      "execution_count": 33,
      "outputs": []
    },
    {
      "cell_type": "code",
      "metadata": {
        "id": "ISe1DakC5xlH",
        "colab_type": "code",
        "colab": {
          "base_uri": "https://localhost:8080/",
          "height": 187
        },
        "outputId": "b3aae77d-c518-4d0f-e8ab-61f2204099ca"
      },
      "source": [
        "model.fit_generator(\n",
        "    train_data_generator,                                                       #data_generator\n",
        "    steps_per_epoch = nb_train_samples // batch_size,\n",
        "    epochs = epochs,\n",
        "    validation_data = test_data_generator,                                      #data_generator\n",
        "    validation_steps = nb_test_samples // batch_size)\n",
        "\n",
        "model.save_weights('model-1.h5')\n"
      ],
      "execution_count": 38,
      "outputs": [
        {
          "output_type": "stream",
          "text": [
            "Epoch 1/5\n",
            "23/23 [==============================] - 34s 1s/step - loss: 0.9180 - accuracy: 0.7317 - val_loss: 0.2076 - val_accuracy: 0.9453\n",
            "Epoch 2/5\n",
            "23/23 [==============================] - 33s 1s/step - loss: 0.2745 - accuracy: 0.9103 - val_loss: 0.1600 - val_accuracy: 0.9609\n",
            "Epoch 3/5\n",
            "23/23 [==============================] - 33s 1s/step - loss: 0.1784 - accuracy: 0.9490 - val_loss: 0.2078 - val_accuracy: 0.9453\n",
            "Epoch 4/5\n",
            "23/23 [==============================] - 36s 2s/step - loss: 0.1073 - accuracy: 0.9715 - val_loss: 0.0654 - val_accuracy: 0.9844\n",
            "Epoch 5/5\n",
            "23/23 [==============================] - 34s 1s/step - loss: 0.2656 - accuracy: 0.9192 - val_loss: 0.1611 - val_accuracy: 0.9375\n"
          ],
          "name": "stdout"
        }
      ]
    }
  ]
}