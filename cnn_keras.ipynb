{
  "nbformat": 4,
  "nbformat_minor": 0,
  "metadata": {
    "colab": {
      "name": "new.ipynb",
      "provenance": [],
      "collapsed_sections": [],
      "mount_file_id": "1uNzA7UXUhI6emdSR2Df0KKHIbj5e1oYj",
      "authorship_tag": "ABX9TyP7F+ahr1sbfvL/IzDvBJCq",
      "include_colab_link": true
    },
    "kernelspec": {
      "name": "python3",
      "display_name": "Python 3"
    },
    "accelerator": "GPU"
  },
  "cells": [
    {
      "cell_type": "markdown",
      "metadata": {
        "id": "view-in-github",
        "colab_type": "text"
      },
      "source": [
        "<a href=\"https://colab.research.google.com/github/sushantjha78/meme_vs_notes/blob/master/cnn_keras.ipynb\" target=\"_parent\"><img src=\"https://colab.research.google.com/assets/colab-badge.svg\" alt=\"Open In Colab\"/></a>"
      ]
    },
    {
      "cell_type": "code",
      "metadata": {
        "id": "p2oz3eDPhK_E",
        "colab_type": "code",
        "colab": {}
      },
      "source": [
        "train_test_ratio = 0.92\n",
        "img_width, img_height = 150, 200\n",
        "epochs = 5\n",
        "batch_size = 64"
      ],
      "execution_count": 11,
      "outputs": []
    },
    {
      "cell_type": "code",
      "metadata": {
        "id": "7jinFl5Cy5LO",
        "colab_type": "code",
        "colab": {}
      },
      "source": [
        "from keras.preprocessing.image import ImageDataGenerator\n",
        "from keras.models import Sequential\n",
        "from keras.layers import Conv2D, MaxPooling2D\n",
        "from keras.layers import Activation, Dropout, Flatten, Dense\n",
        "from keras import backend as K\n",
        "from random import shuffle, choice\n",
        "import numpy as np\n",
        "import os\n",
        "import cv2\n",
        "from PIL import Image\n",
        "from keras.preprocessing import image"
      ],
      "execution_count": 3,
      "outputs": []
    },
    {
      "cell_type": "code",
      "metadata": {
        "colab_type": "code",
        "id": "wtffm6ZGCw4c",
        "colab": {}
      },
      "source": [
        "\n",
        "def load_images_resize_bw(folder):\n",
        "    images = []\n",
        "    for filename in os.listdir(folder):\n",
        "        img = cv2.imread(os.path.join(folder, filename))\n",
        "        if img is not None:\n",
        "            img = cv2.cvtColor(img, cv2.COLOR_BGR2GRAY)/1.0\n",
        "            img = cv2.resize(img, dsize=(150, 200), interpolation=cv2.INTER_CUBIC)\n",
        "            img = np.array(img)\n",
        "            images.append(img)\n",
        "    return images\n",
        "\n",
        "def label_images(image_list, value):\n",
        "    labelled_image = []\n",
        "    for i in range(len(image_list)):\n",
        "        labelled_image.append(np.append(image_list[i], value))\n",
        "    return labelled_image\n",
        "\n"
      ],
      "execution_count": 4,
      "outputs": []
    },
    {
      "cell_type": "code",
      "metadata": {
        "id": "DMX4NrQ-MG7-",
        "colab_type": "code",
        "colab": {}
      },
      "source": [
        "\n",
        "notes = load_images_resize_bw('/content/drive/My Drive/Stage_1/Stage_1/Notes')\n",
        "memes = load_images_resize_bw('/content/drive/My Drive/Stage_1/Stage_1/Memes')"
      ],
      "execution_count": 5,
      "outputs": []
    },
    {
      "cell_type": "code",
      "metadata": {
        "id": "scQFlwgm0CWM",
        "colab_type": "code",
        "colab": {}
      },
      "source": [
        "notes = np.array(notes)\n",
        "memes = np.array(memes)\n",
        "notes_labels = np.ones(notes.shape[0])\n",
        "memes_labels = np.zeros(memes.shape[0])\n",
        "\n",
        "X = np.concatenate((notes,memes))\n",
        "Y = np.concatenate((notes_labels,memes_labels))\n",
        "\n",
        "np.random.seed(0)\n",
        "np.random.shuffle(X)\n",
        "np.random.seed(0)\n",
        "np.random.shuffle(Y)"
      ],
      "execution_count": 6,
      "outputs": []
    },
    {
      "cell_type": "code",
      "metadata": {
        "id": "JQ4k3jjoEVB_",
        "colab_type": "code",
        "colab": {}
      },
      "source": [
        "\n",
        "nb_train_samples = int(train_test_ratio*len(X))\n",
        "nb_test_samples = len(X) - int(train_test_ratio*len(X))\n",
        "x_train = X[:nb_train_samples]\n",
        "x_train = x_train.reshape((x_train.shape[0], img_height, img_width, 1))\n",
        "x_test = X[nb_test_samples:]\n",
        "x_test = x_test.reshape((x_test.shape[0], img_height, img_width, 1))\n",
        "y_train = Y[:nb_train_samples]\n",
        "y_test = Y[nb_test_samples:]\n"
      ],
      "execution_count": 7,
      "outputs": []
    },
    {
      "cell_type": "code",
      "metadata": {
        "id": "QE8fvL8wTfB8",
        "colab_type": "code",
        "colab": {}
      },
      "source": [
        "\n",
        "\n",
        "datagen = ImageDataGenerator(\n",
        "    rescale = 1.0/255,\n",
        "    zoom_range = 0.2,\n",
        "    horizontal_flip = True)\n",
        "\n",
        "train_data_generator = datagen.flow(\n",
        "    x_train,###\n",
        "    y_train,\n",
        "    batch_size = batch_size)\n",
        "\n",
        "test_data_generator = datagen.flow(\n",
        "    x_test,###\n",
        "    y_test,\n",
        "    batch_size = batch_size)\n"
      ],
      "execution_count": 8,
      "outputs": []
    },
    {
      "cell_type": "code",
      "metadata": {
        "id": "o9jxkjX92dGG",
        "colab_type": "code",
        "colab": {}
      },
      "source": [
        "model = Sequential()\n",
        "model.add(Conv2D(16, (3, 3)))\n",
        "model.add(Activation('relu'))\n",
        "model.add(MaxPooling2D(pool_size = (2, 2)))\n",
        "\n",
        "model.add(Conv2D(32, (3, 3)))\n",
        "model.add(Activation('relu'))\n",
        "model.add(MaxPooling2D(pool_size = (2, 2)))\n",
        "\n",
        "model.add(Conv2D(64, (3, 3)))\n",
        "model.add(Activation('relu'))\n",
        "model.add(MaxPooling2D(pool_size = (2, 2)))\n",
        "\n",
        "model.add(Flatten())\n",
        "model.add(Dense(64))\n",
        "model.add(Activation('relu'))\n",
        "model.add(Dense(1))\n",
        "model.add(Activation('sigmoid'))\n",
        "\n",
        "\n",
        "\n",
        "model.compile(loss = 'binary_crossentropy',\n",
        "              optimizer = 'rmsprop',\n",
        "              metrics = ['accuracy'])\n"
      ],
      "execution_count": 9,
      "outputs": []
    },
    {
      "cell_type": "code",
      "metadata": {
        "id": "ISe1DakC5xlH",
        "colab_type": "code",
        "colab": {
          "base_uri": "https://localhost:8080/",
          "height": 187
        },
        "outputId": "b8e850ca-4f4c-4e8d-d40a-00ab580fe379"
      },
      "source": [
        "model.fit_generator(\n",
        "    train_data_generator,                                                       #data_generator\n",
        "    steps_per_epoch = nb_train_samples // batch_size,\n",
        "    epochs = epochs,\n",
        "    validation_data = test_data_generator,                                      #data_generator\n",
        "    validation_steps = nb_test_samples // batch_size)\n",
        "\n",
        "model.save_weights('model-1.h5')\n"
      ],
      "execution_count": 12,
      "outputs": [
        {
          "output_type": "stream",
          "text": [
            "Epoch 1/5\n",
            "23/23 [==============================] - 5s 199ms/step - loss: 0.2213 - accuracy: 0.9443 - val_loss: 0.0862 - val_accuracy: 0.9688\n",
            "Epoch 2/5\n",
            "23/23 [==============================] - 4s 195ms/step - loss: 0.0952 - accuracy: 0.9742 - val_loss: 0.0928 - val_accuracy: 0.9766\n",
            "Epoch 3/5\n",
            "23/23 [==============================] - 4s 193ms/step - loss: 0.1082 - accuracy: 0.9728 - val_loss: 0.0711 - val_accuracy: 0.9922\n",
            "Epoch 4/5\n",
            "23/23 [==============================] - 4s 190ms/step - loss: 0.1381 - accuracy: 0.9586 - val_loss: 0.0435 - val_accuracy: 0.9922\n",
            "Epoch 5/5\n",
            "23/23 [==============================] - 4s 192ms/step - loss: 0.0964 - accuracy: 0.9721 - val_loss: 0.0512 - val_accuracy: 0.9922\n"
          ],
          "name": "stdout"
        }
      ]
    }
  ]
}